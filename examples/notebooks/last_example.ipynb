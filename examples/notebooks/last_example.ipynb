{
 "cells": [
  {
   "cell_type": "code",
   "execution_count": null,
   "id": "d47710b5-6d26-4c47-9a00-d582c76ee9ef",
   "metadata": {},
   "outputs": [],
   "source": []
  },
  {
   "cell_type": "code",
   "execution_count": null,
   "id": "1e2b885b-ed3d-4996-8cb0-76715970363c",
   "metadata": {},
   "outputs": [],
   "source": []
  },
  {
   "cell_type": "markdown",
   "id": "8a3f6ff2-8f41-4daa-8854-72823d863a4b",
   "metadata": {},
   "source": [
    "## 1: Imports and Setup"
   ]
  },
  {
   "cell_type": "code",
   "execution_count": 1,
   "id": "96a71442-8b49-4618-9569-5fe9f1f68abe",
   "metadata": {},
   "outputs": [
    {
     "name": "stdout",
     "output_type": "stream",
     "text": [
      "Project root: /Users/sebastiancadavidsanchez/Documents/Github/cil/dscim-new/examples/notebooks\n",
      "Imports successful\n"
     ]
    }
   ],
   "source": [
    "# =============================================================================\n",
    "# CELL 1: Imports and Setup\n",
    "# =============================================================================\n",
    "\n",
    "import sys\n",
    "from pathlib import Path\n",
    "import yaml\n",
    "import xarray as xr\n",
    "import numpy as np\n",
    "\n",
    "# Set project root\n",
    "# For script: use __file__\n",
    "# For notebook: use Path.cwd()\n",
    "\n",
    "# Running in notebook/REPL\n",
    "project_root = Path.cwd().resolve()\n",
    "\n",
    "print(f\"Project root: {project_root}\")\n",
    "\n",
    "if str(project_root) not in sys.path:\n",
    "    sys.path.insert(0, str(project_root))\n",
    "\n",
    "# Import dscim-new components\n",
    "from dscim_new.config import DSCIMConfig\n",
    "from dscim_new.config.schemas import (\n",
    "    PipelineConfig,\n",
    "    DiscountingConfig,\n",
    "    PathsConfig,\n",
    "    ClimateDataConfig,\n",
    "    EconDataConfig,\n",
    "    SectorConfig,\n",
    "    DamageFunctionConfig,\n",
    "    SCCConfig,\n",
    ")\n",
    "from dscim_new.pipeline.steps import (\n",
    "    ReduceDamagesStep,\n",
    "    GenerateDamageFunctionStep,\n",
    "    CalculateSCCStep,\n",
    ")\n",
    "from dscim_new.utils import ClimateDataGenerator, DamagesDataGenerator\n",
    "\n",
    "print(\"Imports successful\")\n"
   ]
  },
  {
   "cell_type": "code",
   "execution_count": 2,
   "id": "6f41cfa5-95d3-4458-bfa9-ef2ad5328959",
   "metadata": {},
   "outputs": [
    {
     "name": "stdout",
     "output_type": "stream",
     "text": [
      "================================================================================\n",
      "STEP 1: CONFIGURATION SETUP\n",
      "================================================================================\n",
      "\n",
      "Generating synthetic data in: /Users/sebastiancadavidsanchez/Documents/Github/cil/dscim-new/examples/notebooks/workflow_output\n"
     ]
    }
   ],
   "source": [
    "# =============================================================================\n",
    "# 2: Configuration Setup - Choose Data Source\n",
    "# =============================================================================\n",
    "\n",
    "print(\"=\" * 80)\n",
    "print(\"STEP 1: CONFIGURATION SETUP\")\n",
    "print(\"=\" * 80)\n",
    "\n",
    "# Choose whether to use synthetic data or existing data\n",
    "USE_SYNTHETIC_DATA = True  # Set to False to use dscim-testing data\n",
    "\n",
    "if USE_SYNTHETIC_DATA:\n",
    "    output_dir = project_root / \"workflow_output\"\n",
    "    print(f\"\\nGenerating synthetic data in: {output_dir}\")\n",
    "else:\n",
    "    output_dir = project_root / \"dscim-testing\" / \"dummy_data\"\n",
    "    print(f\"\\nUsing existing data in: {output_dir}\")\n"
   ]
  },
  {
   "cell_type": "code",
   "execution_count": 3,
   "id": "df6c184b-1d99-4b2c-9601-cc12bcb4e7d2",
   "metadata": {},
   "outputs": [
    {
     "name": "stdout",
     "output_type": "stream",
     "text": [
      "\n",
      "Generating synthetic data...\n",
      "  - Climate data...\n"
     ]
    },
    {
     "name": "stderr",
     "output_type": "stream",
     "text": [
      "/Users/sebastiancadavidsanchez/miniconda3/envs/dscim-refactoring/lib/python3.11/site-packages/zarr/core/dtype/npy/string.py:248: UnstableSpecificationWarning: The data type (FixedLengthUTF32(length=4, endianness='little')) does not have a Zarr V3 specification. That means that the representation of arrays saved with this data type may change without warning in a future version of Zarr Python. Arrays stored with this data type may be unreadable by other Zarr libraries. Use this data type at your own risk! Check https://github.com/zarr-developers/zarr-extensions/tree/main/data-types for the status of data type specifications for Zarr V3.\n",
      "  v3_unstable_dtype_warning(self)\n",
      "/Users/sebastiancadavidsanchez/miniconda3/envs/dscim-refactoring/lib/python3.11/site-packages/zarr/api/asynchronous.py:244: ZarrUserWarning: Consolidated metadata is currently not part in the Zarr format 3 specification. It may not be supported by other zarr implementations and may change in the future.\n",
      "  warnings.warn(\n"
     ]
    },
    {
     "name": "stdout",
     "output_type": "stream",
     "text": [
      "  - Damages and economic data...\n"
     ]
    },
    {
     "name": "stderr",
     "output_type": "stream",
     "text": [
      "/Users/sebastiancadavidsanchez/miniconda3/envs/dscim-refactoring/lib/python3.11/site-packages/zarr/core/dtype/npy/string.py:248: UnstableSpecificationWarning: The data type (FixedLengthUTF32(length=7, endianness='little')) does not have a Zarr V3 specification. That means that the representation of arrays saved with this data type may change without warning in a future version of Zarr Python. Arrays stored with this data type may be unreadable by other Zarr libraries. Use this data type at your own risk! Check https://github.com/zarr-developers/zarr-extensions/tree/main/data-types for the status of data type specifications for Zarr V3.\n",
      "  v3_unstable_dtype_warning(self)\n",
      "/Users/sebastiancadavidsanchez/miniconda3/envs/dscim-refactoring/lib/python3.11/site-packages/zarr/core/dtype/npy/string.py:248: UnstableSpecificationWarning: The data type (FixedLengthUTF32(length=4, endianness='little')) does not have a Zarr V3 specification. That means that the representation of arrays saved with this data type may change without warning in a future version of Zarr Python. Arrays stored with this data type may be unreadable by other Zarr libraries. Use this data type at your own risk! Check https://github.com/zarr-developers/zarr-extensions/tree/main/data-types for the status of data type specifications for Zarr V3.\n",
      "  v3_unstable_dtype_warning(self)\n",
      "/Users/sebastiancadavidsanchez/miniconda3/envs/dscim-refactoring/lib/python3.11/site-packages/zarr/api/asynchronous.py:244: ZarrUserWarning: Consolidated metadata is currently not part in the Zarr format 3 specification. It may not be supported by other zarr implementations and may change in the future.\n",
      "  warnings.warn(\n",
      "/Users/sebastiancadavidsanchez/miniconda3/envs/dscim-refactoring/lib/python3.11/site-packages/zarr/core/dtype/npy/string.py:248: UnstableSpecificationWarning: The data type (FixedLengthUTF32(length=7, endianness='little')) does not have a Zarr V3 specification. That means that the representation of arrays saved with this data type may change without warning in a future version of Zarr Python. Arrays stored with this data type may be unreadable by other Zarr libraries. Use this data type at your own risk! Check https://github.com/zarr-developers/zarr-extensions/tree/main/data-types for the status of data type specifications for Zarr V3.\n",
      "  v3_unstable_dtype_warning(self)\n",
      "/Users/sebastiancadavidsanchez/miniconda3/envs/dscim-refactoring/lib/python3.11/site-packages/zarr/core/dtype/npy/string.py:248: UnstableSpecificationWarning: The data type (FixedLengthUTF32(length=4, endianness='little')) does not have a Zarr V3 specification. That means that the representation of arrays saved with this data type may change without warning in a future version of Zarr Python. Arrays stored with this data type may be unreadable by other Zarr libraries. Use this data type at your own risk! Check https://github.com/zarr-developers/zarr-extensions/tree/main/data-types for the status of data type specifications for Zarr V3.\n",
      "  v3_unstable_dtype_warning(self)\n",
      "/Users/sebastiancadavidsanchez/miniconda3/envs/dscim-refactoring/lib/python3.11/site-packages/zarr/core/dtype/npy/string.py:248: UnstableSpecificationWarning: The data type (FixedLengthUTF32(length=5, endianness='little')) does not have a Zarr V3 specification. That means that the representation of arrays saved with this data type may change without warning in a future version of Zarr Python. Arrays stored with this data type may be unreadable by other Zarr libraries. Use this data type at your own risk! Check https://github.com/zarr-developers/zarr-extensions/tree/main/data-types for the status of data type specifications for Zarr V3.\n",
      "  v3_unstable_dtype_warning(self)\n",
      "/Users/sebastiancadavidsanchez/miniconda3/envs/dscim-refactoring/lib/python3.11/site-packages/zarr/api/asynchronous.py:244: ZarrUserWarning: Consolidated metadata is currently not part in the Zarr format 3 specification. It may not be supported by other zarr implementations and may change in the future.\n",
      "  warnings.warn(\n",
      "/Users/sebastiancadavidsanchez/miniconda3/envs/dscim-refactoring/lib/python3.11/site-packages/zarr/core/dtype/npy/string.py:248: UnstableSpecificationWarning: The data type (FixedLengthUTF32(length=7, endianness='little')) does not have a Zarr V3 specification. That means that the representation of arrays saved with this data type may change without warning in a future version of Zarr Python. Arrays stored with this data type may be unreadable by other Zarr libraries. Use this data type at your own risk! Check https://github.com/zarr-developers/zarr-extensions/tree/main/data-types for the status of data type specifications for Zarr V3.\n",
      "  v3_unstable_dtype_warning(self)\n",
      "/Users/sebastiancadavidsanchez/miniconda3/envs/dscim-refactoring/lib/python3.11/site-packages/zarr/core/dtype/npy/string.py:248: UnstableSpecificationWarning: The data type (FixedLengthUTF32(length=4, endianness='little')) does not have a Zarr V3 specification. That means that the representation of arrays saved with this data type may change without warning in a future version of Zarr Python. Arrays stored with this data type may be unreadable by other Zarr libraries. Use this data type at your own risk! Check https://github.com/zarr-developers/zarr-extensions/tree/main/data-types for the status of data type specifications for Zarr V3.\n",
      "  v3_unstable_dtype_warning(self)\n",
      "/Users/sebastiancadavidsanchez/miniconda3/envs/dscim-refactoring/lib/python3.11/site-packages/zarr/api/asynchronous.py:244: ZarrUserWarning: Consolidated metadata is currently not part in the Zarr format 3 specification. It may not be supported by other zarr implementations and may change in the future.\n",
      "  warnings.warn(\n"
     ]
    },
    {
     "name": "stdout",
     "output_type": "stream",
     "text": [
      "  Generated 8 data files\n"
     ]
    }
   ],
   "source": [
    "\n",
    "# =============================================================================\n",
    "# 3: Generate Synthetic Data (Skip if using existing data)\n",
    "# =============================================================================\n",
    "\n",
    "if USE_SYNTHETIC_DATA:\n",
    "    print(\"\\nGenerating synthetic data...\")\n",
    "\n",
    "    # Create directories\n",
    "    climate_dir = output_dir / \"climate_data\"\n",
    "    damages_dir = output_dir / \"damages_data\"\n",
    "    climate_dir.mkdir(parents=True, exist_ok=True)\n",
    "    damages_dir.mkdir(parents=True, exist_ok=True)\n",
    "\n",
    "    # Generate climate data\n",
    "    print(\"  - Climate data...\")\n",
    "    climate_gen = ClimateDataGenerator(seed=42, verbose=False)\n",
    "    climate_paths = climate_gen.generate_all_climate_data(str(climate_dir))\n",
    "\n",
    "    # Generate damages and economic data\n",
    "    print(\"  - Damages and economic data...\")\n",
    "    damages_gen = DamagesDataGenerator(seed=42, verbose=False)\n",
    "    damages_paths = damages_gen.generate_all_damages_data(str(damages_dir))\n",
    "\n",
    "    # Combine paths\n",
    "    data_paths = {**climate_paths, **damages_paths}\n",
    "\n",
    "    print(f\"  Generated {len(data_paths)} data files\")\n",
    "\n",
    "else:\n",
    "    # Use existing data paths from dscim-testing\n",
    "    config_path = project_root / \"dscim-testing\" / \"configs\" / \"dummy_config.yaml\"\n",
    "\n",
    "    if not config_path.exists():\n",
    "        raise FileNotFoundError(f\"Config not found: {config_path}\")\n",
    "\n",
    "    # Load to get paths\n",
    "    with open(config_path, 'r') as f:\n",
    "        conf_dict = yaml.safe_load(f)\n",
    "\n",
    "    base_dir = project_root / \"dscim-testing\" / \"dummy_data\"\n",
    "    data_paths = {\n",
    "        \"climate\": str(base_dir / \"climate\"),\n",
    "        \"economic\": str(base_dir / \"econ\" / \"integration-econ-bc39.zarr\"),\n",
    "        \"sector\": str(base_dir / \"sectoral\" / \"not_coastl_damages.zarr\"),\n",
    "    }\n",
    "\n",
    "    print(\"  Using existing data\")\n"
   ]
  },
  {
   "cell_type": "code",
   "execution_count": 4,
   "id": "79900e3f-722e-471f-bc6b-366dc095967b",
   "metadata": {},
   "outputs": [
    {
     "name": "stdout",
     "output_type": "stream",
     "text": [
      "\u001b[1;36mworkflow_output\u001b[0m\n",
      "├── \u001b[1;36mclimate_data\u001b[0m\n",
      "│   ├── GMTanom_all_temp.csv\n",
      "│   ├── ar6_fair162_sim.nc\n",
      "│   ├── \u001b[1;36mcoastal_gmsl.zarr\u001b[0m\n",
      "│   │   ├── \u001b[1;36mgmsl\u001b[0m\n",
      "│   │   ├── \u001b[1;36mslr\u001b[0m\n",
      "│   │   ├── \u001b[1;36myear\u001b[0m\n",
      "│   │   └── zarr.json\n",
      "│   ├── conversion.nc4\n",
      "│   └── scenario_gmsl.nc4\n",
      "├── \u001b[1;36mdamage_functions\u001b[0m\n",
      "│   └── \u001b[1;36mnot_coastal\u001b[0m\n",
      "│       └── \u001b[1;36m2020\u001b[0m\n",
      "├── \u001b[1;36mdamages_data\u001b[0m\n",
      "│   ├── \u001b[1;36mecon\u001b[0m\n",
      "│   │   └── \u001b[1;36mintegration-econ.zarr\u001b[0m\n",
      "│   └── \u001b[1;36msectoral\u001b[0m\n",
      "│       ├── \u001b[1;36mcoastal_damages.zarr\u001b[0m\n",
      "│       └── \u001b[1;36mnoncoastal_damages.zarr\u001b[0m\n",
      "├── \u001b[1;36mreduced_damages\u001b[0m\n",
      "│   └── \u001b[1;36mnot_coastal\u001b[0m\n",
      "│       ├── \u001b[1;36madding_up_cc_reduced_damages.zarr\u001b[0m\n",
      "│       ├── \u001b[1;36madding_up_no_cc_reduced_damages.zarr\u001b[0m\n",
      "│       ├── \u001b[1;36mequity_cc_eta2.0_reduced_damages.zarr\u001b[0m\n",
      "│       ├── \u001b[1;36mequity_no_cc_eta2.0_reduced_damages.zarr\u001b[0m\n",
      "│       ├── \u001b[1;36mrisk_aversion_cc_eta2.0_reduced_damages.zarr\u001b[0m\n",
      "│       └── \u001b[1;36mrisk_aversion_no_cc_eta2.0_reduced_damages.zarr\u001b[0m\n",
      "└── \u001b[1;36mscc_results\u001b[0m\n",
      "    └── \u001b[1;36mnot_coastal\u001b[0m\n",
      "        └── \u001b[1;36m2020\u001b[0m\n",
      "\n",
      "26 directories, 5 files\n"
     ]
    }
   ],
   "source": [
    "!tree -L 3 \"workflow_output\""
   ]
  },
  {
   "cell_type": "markdown",
   "id": "06bc26a4-3ee1-45fa-81ad-5714dc0fbe99",
   "metadata": {},
   "source": [
    "### 4: Create Configuration Object"
   ]
  },
  {
   "cell_type": "code",
   "execution_count": 5,
   "id": "aa5c355b-74f6-405e-9999-e3995fc48534",
   "metadata": {},
   "outputs": [
    {
     "name": "stdout",
     "output_type": "stream",
     "text": [
      "\n",
      "Creating configuration object...\n",
      "Configuration created successfully\n",
      "Sectors available: ['not_coastal']\n"
     ]
    }
   ],
   "source": [
    "print(\"\\nCreating configuration object...\")\n",
    "\n",
    "# Previous approach: Dictionary-based config\n",
    "# with open(config_path, 'r') as f:\n",
    "#     conf = yaml.safe_load(f)\n",
    "# No validation, access via conf['key']['subkey']\n",
    "\n",
    "# New approach: Pydantic-validated configuration\n",
    "# Note: DSCIMConfig requires paths, econdata, and sectors\n",
    "\n",
    "if USE_SYNTHETIC_DATA:\n",
    "    # Build configuration with synthetic data paths\n",
    "    config = DSCIMConfig(\n",
    "        paths=PathsConfig(\n",
    "            reduced_damages_library=str(output_dir / \"reduced_damages\"),\n",
    "            ssp_damage_function_library=str(output_dir / \"damage_functions\"),\n",
    "            AR6_ssp_results=str(output_dir / \"scc_results\"),\n",
    "        ),\n",
    "        econdata=EconDataConfig(global_ssp=data_paths[\"economic\"]),\n",
    "        sectors={\n",
    "            \"not_coastal\": SectorConfig(\n",
    "                sector_path=data_paths[\"noncoastal_damages\"],\n",
    "                histclim=\"histclim_dummy\",  # Variable name in dataset\n",
    "                delta=\"delta_dummy\",  # Variable name in dataset\n",
    "                formula=\"damages ~ -1 + anomaly + np.power(anomaly, 2)\",\n",
    "            )\n",
    "        },\n",
    "        climate_data=ClimateDataConfig(\n",
    "            gmst_path=data_paths[\"gmst\"],\n",
    "            gmsl_path=data_paths[\"gmsl\"],\n",
    "            fair_temperature_path=data_paths[\"fair_temperature\"],\n",
    "            fair_gmsl_path=data_paths[\"fair_gmsl\"],\n",
    "            pulse_conversion_path=data_paths[\"pulse_conversion\"],\n",
    "        ),\n",
    "        damage_function=DamageFunctionConfig(\n",
    "            formula=\"damages ~ -1 + anomaly + np.power(anomaly, 2)\",\n",
    "            fit_type=\"ols\",\n",
    "        ),\n",
    "        scc=SCCConfig(pulse_years=[2020]),\n",
    "    )\n",
    "else:\n",
    "    # Load from existing config\n",
    "    config = DSCIMConfig.from_yaml(str(config_path))\n",
    "    # Override output paths\n",
    "    config.paths.reduced_damages_library = str(output_dir / \"reduced_damages\")\n",
    "    config.paths.ssp_damage_function_library = str(output_dir / \"damage_functions\")\n",
    "    config.paths.AR6_ssp_results = str(output_dir / \"scc_results\")\n",
    "\n",
    "print(\"Configuration created successfully\")\n",
    "print(f\"Sectors available: {list(config.sectors.keys())}\")\n"
   ]
  },
  {
   "cell_type": "markdown",
   "id": "fc02aa76-e22f-4235-843f-7e140ec45730",
   "metadata": {},
   "source": [
    "## 5: Configure Pipeline Parameters"
   ]
  },
  {
   "cell_type": "code",
   "execution_count": 6,
   "id": "7a8f4970-3fd2-4962-ac36-35c2f8ad8b92",
   "metadata": {},
   "outputs": [
    {
     "name": "stdout",
     "output_type": "stream",
     "text": [
      "\n",
      "================================================================================\n",
      "STEP 2: PIPELINE PARAMETERS\n",
      "================================================================================\n",
      "\n",
      "Pipeline configured:\n",
      "  Recipes: ['adding_up', 'risk_aversion', 'equity']\n",
      "  Reductions: ['cc', 'no_cc']\n",
      "  Discount methods: 5\n",
      "\n",
      "Expected: 3 recipes x 5 methods = 15 combinations\n"
     ]
    }
   ],
   "source": [
    "\n",
    "\n",
    "print(\"\\n\" + \"=\" * 80)\n",
    "print(\"STEP 2: PIPELINE PARAMETERS\")\n",
    "print(\"=\" * 80)\n",
    "\n",
    "# Previous approach: Hard-coded parameters scattered in script\n",
    "# eta_rhos = [[2.0, 0.0001]]\n",
    "# reductions = ['cc', 'no_cc']\n",
    "# recipe_discs = product(['adding_up', 'risk_aversion', 'equity'], [...])\n",
    "\n",
    "# New approach: Centralized configuration\n",
    "if config.pipeline is None:\n",
    "    config.pipeline = PipelineConfig()\n",
    "\n",
    "# Set recipes to process\n",
    "config.pipeline.recipes = [\"adding_up\", \"risk_aversion\", \"equity\"]\n",
    "config.pipeline.reductions = [\"cc\", \"no_cc\"]\n",
    "config.pipeline.eta_values = [2.0]\n",
    "\n",
    "# Configure discount methods (5 methods matching original)\n",
    "config.discounting = [\n",
    "    DiscountingConfig(discount_type=\"constant\", discount_rate=0.02),\n",
    "    DiscountingConfig(\n",
    "        discount_type=\"ramsey\", eta=2.0, rho=0.0001, ramsey_method=\"naive_ramsey\"\n",
    "    ),\n",
    "    DiscountingConfig(\n",
    "        discount_type=\"ramsey\", eta=2.0, rho=0.0001, ramsey_method=\"euler_ramsey\"\n",
    "    ),\n",
    "    DiscountingConfig(\n",
    "        discount_type=\"gwr\", eta=2.0, rho=0.0001, gwr_method=\"naive_gwr\"\n",
    "    ),\n",
    "    DiscountingConfig(\n",
    "        discount_type=\"gwr\", eta=2.0, rho=0.0001, gwr_method=\"euler_gwr\"\n",
    "    ),\n",
    "]\n",
    "\n",
    "# Calculate expected combinations\n",
    "n_recipes = len(config.pipeline.recipes)\n",
    "n_discount_methods = len(config.discounting)\n",
    "n_combinations = n_recipes * n_discount_methods\n",
    "\n",
    "print(f\"\\nPipeline configured:\")\n",
    "print(f\"  Recipes: {config.pipeline.recipes}\")\n",
    "print(f\"  Reductions: {config.pipeline.reductions}\")\n",
    "print(f\"  Discount methods: {n_discount_methods}\")\n",
    "print(f\"\\nExpected: {n_recipes} recipes x {n_discount_methods} methods = {n_combinations} combinations\")\n"
   ]
  },
  {
   "cell_type": "code",
   "execution_count": 7,
   "id": "2e9ed28c-e05e-451e-9acb-96efe34153e3",
   "metadata": {},
   "outputs": [
    {
     "name": "stdout",
     "output_type": "stream",
     "text": [
      "\n",
      "Processing sector: not_coastal\n",
      "  Data path: /Users/sebastiancadavidsanchez/Documents/Github/cil/dscim-new/examples/notebooks/workflow_output/damages_data/sectoral/noncoastal_damages.zarr\n",
      "  Formula: damages ~ -1 + anomaly + np.power(anomaly, 2)\n"
     ]
    }
   ],
   "source": [
    "# =============================================================================\n",
    "# CELL 6: Select Sector to Process\n",
    "# =============================================================================\n",
    "\n",
    "sector_name = list(config.sectors.keys())[0]\n",
    "sector_config = config.sectors[sector_name]\n",
    "\n",
    "print(f\"\\nProcessing sector: {sector_name}\")\n",
    "print(f\"  Data path: {sector_config.sector_path}\")\n",
    "print(f\"  Formula: {sector_config.formula}\")"
   ]
  },
  {
   "cell_type": "code",
   "execution_count": 8,
   "id": "18a60069-7f11-4424-9b5b-ac420b9c66d4",
   "metadata": {},
   "outputs": [
    {
     "name": "stdout",
     "output_type": "stream",
     "text": [
      "\n",
      "================================================================================\n",
      "STEP 3: REDUCE DAMAGES\n",
      "================================================================================\n",
      "\n",
      "Processing sector: not_coastal\n",
      "Recipes: ['adding_up', 'risk_aversion', 'equity']\n",
      "Reductions: ['cc', 'no_cc']\n",
      "\n",
      "  Processing: adding_up x cc\n"
     ]
    },
    {
     "name": "stderr",
     "output_type": "stream",
     "text": [
      "/Users/sebastiancadavidsanchez/miniconda3/envs/dscim-refactoring/lib/python3.11/site-packages/zarr/core/dtype/npy/string.py:248: UnstableSpecificationWarning: The data type (FixedLengthUTF32(length=7, endianness='little')) does not have a Zarr V3 specification. That means that the representation of arrays saved with this data type may change without warning in a future version of Zarr Python. Arrays stored with this data type may be unreadable by other Zarr libraries. Use this data type at your own risk! Check https://github.com/zarr-developers/zarr-extensions/tree/main/data-types for the status of data type specifications for Zarr V3.\n",
      "  v3_unstable_dtype_warning(self)\n",
      "/Users/sebastiancadavidsanchez/miniconda3/envs/dscim-refactoring/lib/python3.11/site-packages/zarr/core/dtype/npy/string.py:248: UnstableSpecificationWarning: The data type (FixedLengthUTF32(length=4, endianness='little')) does not have a Zarr V3 specification. That means that the representation of arrays saved with this data type may change without warning in a future version of Zarr Python. Arrays stored with this data type may be unreadable by other Zarr libraries. Use this data type at your own risk! Check https://github.com/zarr-developers/zarr-extensions/tree/main/data-types for the status of data type specifications for Zarr V3.\n",
      "  v3_unstable_dtype_warning(self)\n",
      "/Users/sebastiancadavidsanchez/miniconda3/envs/dscim-refactoring/lib/python3.11/site-packages/zarr/core/dtype/npy/string.py:248: UnstableSpecificationWarning: The data type (FixedLengthUTF32(length=5, endianness='little')) does not have a Zarr V3 specification. That means that the representation of arrays saved with this data type may change without warning in a future version of Zarr Python. Arrays stored with this data type may be unreadable by other Zarr libraries. Use this data type at your own risk! Check https://github.com/zarr-developers/zarr-extensions/tree/main/data-types for the status of data type specifications for Zarr V3.\n",
      "  v3_unstable_dtype_warning(self)\n",
      "/Users/sebastiancadavidsanchez/miniconda3/envs/dscim-refactoring/lib/python3.11/site-packages/zarr/api/asynchronous.py:244: ZarrUserWarning: Consolidated metadata is currently not part in the Zarr format 3 specification. It may not be supported by other zarr implementations and may change in the future.\n",
      "  warnings.warn(\n"
     ]
    },
    {
     "name": "stdout",
     "output_type": "stream",
     "text": [
      "    Type: Dataset with 1 variables\n",
      "    Variables: ['cc']\n",
      "\n",
      "  Processing: adding_up x no_cc\n"
     ]
    },
    {
     "name": "stderr",
     "output_type": "stream",
     "text": [
      "/Users/sebastiancadavidsanchez/miniconda3/envs/dscim-refactoring/lib/python3.11/site-packages/zarr/core/dtype/npy/string.py:248: UnstableSpecificationWarning: The data type (FixedLengthUTF32(length=7, endianness='little')) does not have a Zarr V3 specification. That means that the representation of arrays saved with this data type may change without warning in a future version of Zarr Python. Arrays stored with this data type may be unreadable by other Zarr libraries. Use this data type at your own risk! Check https://github.com/zarr-developers/zarr-extensions/tree/main/data-types for the status of data type specifications for Zarr V3.\n",
      "  v3_unstable_dtype_warning(self)\n",
      "/Users/sebastiancadavidsanchez/miniconda3/envs/dscim-refactoring/lib/python3.11/site-packages/zarr/core/dtype/npy/string.py:248: UnstableSpecificationWarning: The data type (FixedLengthUTF32(length=4, endianness='little')) does not have a Zarr V3 specification. That means that the representation of arrays saved with this data type may change without warning in a future version of Zarr Python. Arrays stored with this data type may be unreadable by other Zarr libraries. Use this data type at your own risk! Check https://github.com/zarr-developers/zarr-extensions/tree/main/data-types for the status of data type specifications for Zarr V3.\n",
      "  v3_unstable_dtype_warning(self)\n",
      "/Users/sebastiancadavidsanchez/miniconda3/envs/dscim-refactoring/lib/python3.11/site-packages/zarr/core/dtype/npy/string.py:248: UnstableSpecificationWarning: The data type (FixedLengthUTF32(length=5, endianness='little')) does not have a Zarr V3 specification. That means that the representation of arrays saved with this data type may change without warning in a future version of Zarr Python. Arrays stored with this data type may be unreadable by other Zarr libraries. Use this data type at your own risk! Check https://github.com/zarr-developers/zarr-extensions/tree/main/data-types for the status of data type specifications for Zarr V3.\n",
      "  v3_unstable_dtype_warning(self)\n",
      "/Users/sebastiancadavidsanchez/miniconda3/envs/dscim-refactoring/lib/python3.11/site-packages/zarr/api/asynchronous.py:244: ZarrUserWarning: Consolidated metadata is currently not part in the Zarr format 3 specification. It may not be supported by other zarr implementations and may change in the future.\n",
      "  warnings.warn(\n"
     ]
    },
    {
     "name": "stdout",
     "output_type": "stream",
     "text": [
      "    Type: Dataset with 1 variables\n",
      "    Variables: ['no_cc']\n",
      "\n",
      "  Processing: risk_aversion x cc\n"
     ]
    },
    {
     "name": "stderr",
     "output_type": "stream",
     "text": [
      "/Users/sebastiancadavidsanchez/miniconda3/envs/dscim-refactoring/lib/python3.11/site-packages/zarr/core/dtype/npy/string.py:248: UnstableSpecificationWarning: The data type (FixedLengthUTF32(length=7, endianness='little')) does not have a Zarr V3 specification. That means that the representation of arrays saved with this data type may change without warning in a future version of Zarr Python. Arrays stored with this data type may be unreadable by other Zarr libraries. Use this data type at your own risk! Check https://github.com/zarr-developers/zarr-extensions/tree/main/data-types for the status of data type specifications for Zarr V3.\n",
      "  v3_unstable_dtype_warning(self)\n",
      "/Users/sebastiancadavidsanchez/miniconda3/envs/dscim-refactoring/lib/python3.11/site-packages/zarr/core/dtype/npy/string.py:248: UnstableSpecificationWarning: The data type (FixedLengthUTF32(length=4, endianness='little')) does not have a Zarr V3 specification. That means that the representation of arrays saved with this data type may change without warning in a future version of Zarr Python. Arrays stored with this data type may be unreadable by other Zarr libraries. Use this data type at your own risk! Check https://github.com/zarr-developers/zarr-extensions/tree/main/data-types for the status of data type specifications for Zarr V3.\n",
      "  v3_unstable_dtype_warning(self)\n",
      "/Users/sebastiancadavidsanchez/miniconda3/envs/dscim-refactoring/lib/python3.11/site-packages/zarr/core/dtype/npy/string.py:248: UnstableSpecificationWarning: The data type (FixedLengthUTF32(length=5, endianness='little')) does not have a Zarr V3 specification. That means that the representation of arrays saved with this data type may change without warning in a future version of Zarr Python. Arrays stored with this data type may be unreadable by other Zarr libraries. Use this data type at your own risk! Check https://github.com/zarr-developers/zarr-extensions/tree/main/data-types for the status of data type specifications for Zarr V3.\n",
      "  v3_unstable_dtype_warning(self)\n",
      "/Users/sebastiancadavidsanchez/miniconda3/envs/dscim-refactoring/lib/python3.11/site-packages/zarr/api/asynchronous.py:244: ZarrUserWarning: Consolidated metadata is currently not part in the Zarr format 3 specification. It may not be supported by other zarr implementations and may change in the future.\n",
      "  warnings.warn(\n"
     ]
    },
    {
     "name": "stdout",
     "output_type": "stream",
     "text": [
      "    Type: Dataset with 1 variables\n",
      "    Variables: ['cc']\n",
      "\n",
      "  Processing: risk_aversion x no_cc\n"
     ]
    },
    {
     "name": "stderr",
     "output_type": "stream",
     "text": [
      "/Users/sebastiancadavidsanchez/miniconda3/envs/dscim-refactoring/lib/python3.11/site-packages/zarr/core/dtype/npy/string.py:248: UnstableSpecificationWarning: The data type (FixedLengthUTF32(length=7, endianness='little')) does not have a Zarr V3 specification. That means that the representation of arrays saved with this data type may change without warning in a future version of Zarr Python. Arrays stored with this data type may be unreadable by other Zarr libraries. Use this data type at your own risk! Check https://github.com/zarr-developers/zarr-extensions/tree/main/data-types for the status of data type specifications for Zarr V3.\n",
      "  v3_unstable_dtype_warning(self)\n",
      "/Users/sebastiancadavidsanchez/miniconda3/envs/dscim-refactoring/lib/python3.11/site-packages/zarr/core/dtype/npy/string.py:248: UnstableSpecificationWarning: The data type (FixedLengthUTF32(length=4, endianness='little')) does not have a Zarr V3 specification. That means that the representation of arrays saved with this data type may change without warning in a future version of Zarr Python. Arrays stored with this data type may be unreadable by other Zarr libraries. Use this data type at your own risk! Check https://github.com/zarr-developers/zarr-extensions/tree/main/data-types for the status of data type specifications for Zarr V3.\n",
      "  v3_unstable_dtype_warning(self)\n",
      "/Users/sebastiancadavidsanchez/miniconda3/envs/dscim-refactoring/lib/python3.11/site-packages/zarr/core/dtype/npy/string.py:248: UnstableSpecificationWarning: The data type (FixedLengthUTF32(length=5, endianness='little')) does not have a Zarr V3 specification. That means that the representation of arrays saved with this data type may change without warning in a future version of Zarr Python. Arrays stored with this data type may be unreadable by other Zarr libraries. Use this data type at your own risk! Check https://github.com/zarr-developers/zarr-extensions/tree/main/data-types for the status of data type specifications for Zarr V3.\n",
      "  v3_unstable_dtype_warning(self)\n",
      "/Users/sebastiancadavidsanchez/miniconda3/envs/dscim-refactoring/lib/python3.11/site-packages/zarr/api/asynchronous.py:244: ZarrUserWarning: Consolidated metadata is currently not part in the Zarr format 3 specification. It may not be supported by other zarr implementations and may change in the future.\n",
      "  warnings.warn(\n"
     ]
    },
    {
     "name": "stdout",
     "output_type": "stream",
     "text": [
      "    Type: Dataset with 1 variables\n",
      "    Variables: ['no_cc']\n",
      "\n",
      "  Processing: equity x cc\n"
     ]
    },
    {
     "name": "stderr",
     "output_type": "stream",
     "text": [
      "/Users/sebastiancadavidsanchez/miniconda3/envs/dscim-refactoring/lib/python3.11/site-packages/zarr/core/dtype/npy/string.py:248: UnstableSpecificationWarning: The data type (FixedLengthUTF32(length=7, endianness='little')) does not have a Zarr V3 specification. That means that the representation of arrays saved with this data type may change without warning in a future version of Zarr Python. Arrays stored with this data type may be unreadable by other Zarr libraries. Use this data type at your own risk! Check https://github.com/zarr-developers/zarr-extensions/tree/main/data-types for the status of data type specifications for Zarr V3.\n",
      "  v3_unstable_dtype_warning(self)\n",
      "/Users/sebastiancadavidsanchez/miniconda3/envs/dscim-refactoring/lib/python3.11/site-packages/zarr/core/dtype/npy/string.py:248: UnstableSpecificationWarning: The data type (FixedLengthUTF32(length=4, endianness='little')) does not have a Zarr V3 specification. That means that the representation of arrays saved with this data type may change without warning in a future version of Zarr Python. Arrays stored with this data type may be unreadable by other Zarr libraries. Use this data type at your own risk! Check https://github.com/zarr-developers/zarr-extensions/tree/main/data-types for the status of data type specifications for Zarr V3.\n",
      "  v3_unstable_dtype_warning(self)\n",
      "/Users/sebastiancadavidsanchez/miniconda3/envs/dscim-refactoring/lib/python3.11/site-packages/zarr/core/dtype/npy/string.py:248: UnstableSpecificationWarning: The data type (FixedLengthUTF32(length=5, endianness='little')) does not have a Zarr V3 specification. That means that the representation of arrays saved with this data type may change without warning in a future version of Zarr Python. Arrays stored with this data type may be unreadable by other Zarr libraries. Use this data type at your own risk! Check https://github.com/zarr-developers/zarr-extensions/tree/main/data-types for the status of data type specifications for Zarr V3.\n",
      "  v3_unstable_dtype_warning(self)\n",
      "/Users/sebastiancadavidsanchez/miniconda3/envs/dscim-refactoring/lib/python3.11/site-packages/zarr/api/asynchronous.py:244: ZarrUserWarning: Consolidated metadata is currently not part in the Zarr format 3 specification. It may not be supported by other zarr implementations and may change in the future.\n",
      "  warnings.warn(\n"
     ]
    },
    {
     "name": "stdout",
     "output_type": "stream",
     "text": [
      "    Type: Dataset with 1 variables\n",
      "    Variables: ['cc']\n",
      "\n",
      "  Processing: equity x no_cc\n"
     ]
    },
    {
     "name": "stderr",
     "output_type": "stream",
     "text": [
      "/Users/sebastiancadavidsanchez/miniconda3/envs/dscim-refactoring/lib/python3.11/site-packages/zarr/core/dtype/npy/string.py:248: UnstableSpecificationWarning: The data type (FixedLengthUTF32(length=7, endianness='little')) does not have a Zarr V3 specification. That means that the representation of arrays saved with this data type may change without warning in a future version of Zarr Python. Arrays stored with this data type may be unreadable by other Zarr libraries. Use this data type at your own risk! Check https://github.com/zarr-developers/zarr-extensions/tree/main/data-types for the status of data type specifications for Zarr V3.\n",
      "  v3_unstable_dtype_warning(self)\n",
      "/Users/sebastiancadavidsanchez/miniconda3/envs/dscim-refactoring/lib/python3.11/site-packages/zarr/core/dtype/npy/string.py:248: UnstableSpecificationWarning: The data type (FixedLengthUTF32(length=4, endianness='little')) does not have a Zarr V3 specification. That means that the representation of arrays saved with this data type may change without warning in a future version of Zarr Python. Arrays stored with this data type may be unreadable by other Zarr libraries. Use this data type at your own risk! Check https://github.com/zarr-developers/zarr-extensions/tree/main/data-types for the status of data type specifications for Zarr V3.\n",
      "  v3_unstable_dtype_warning(self)\n",
      "/Users/sebastiancadavidsanchez/miniconda3/envs/dscim-refactoring/lib/python3.11/site-packages/zarr/core/dtype/npy/string.py:248: UnstableSpecificationWarning: The data type (FixedLengthUTF32(length=5, endianness='little')) does not have a Zarr V3 specification. That means that the representation of arrays saved with this data type may change without warning in a future version of Zarr Python. Arrays stored with this data type may be unreadable by other Zarr libraries. Use this data type at your own risk! Check https://github.com/zarr-developers/zarr-extensions/tree/main/data-types for the status of data type specifications for Zarr V3.\n",
      "  v3_unstable_dtype_warning(self)\n",
      "/Users/sebastiancadavidsanchez/miniconda3/envs/dscim-refactoring/lib/python3.11/site-packages/zarr/api/asynchronous.py:244: ZarrUserWarning: Consolidated metadata is currently not part in the Zarr format 3 specification. It may not be supported by other zarr implementations and may change in the future.\n",
      "  warnings.warn(\n"
     ]
    },
    {
     "name": "stdout",
     "output_type": "stream",
     "text": [
      "    Type: Dataset with 1 variables\n",
      "    Variables: ['no_cc']\n",
      "\n",
      "Damage reduction complete: 6 combinations\n"
     ]
    }
   ],
   "source": [
    "\n",
    "# =============================================================================\n",
    "# CELL 7: STEP 1 - Reduce Damages\n",
    "# =============================================================================\n",
    "\n",
    "print(\"\\n\" + \"=\" * 80)\n",
    "print(\"STEP 3: REDUCE DAMAGES\")\n",
    "print(\"=\" * 80)\n",
    "\n",
    "# Previous Approach:\n",
    "#   Multiple calls to reduce_damages() in nested loops\n",
    "#   for sector, reduction in product(sectors, reductions):\n",
    "#       for recipe in recipes:\n",
    "#           reduce_damages(sector, config, recipe, reduction, ...)\n",
    "\n",
    "# New Approach:\n",
    "#   Explicit step execution with optional I/O\n",
    "#   step = ReduceDamagesStep(config, sector, recipe, reduction)\n",
    "#   result = step.run(inputs={...}, save=False)  # In-memory\n",
    "#   OR\n",
    "#   result = step.run(inputs={...}, save=True)   # Save to disk\n",
    "\n",
    "# Key Difference:\n",
    "#   - Results accessible for inspection before next step\n",
    "#   - I/O is optional (save parameter)\n",
    "#   - Each step independently executable\n",
    "\n",
    "print(f\"\\nProcessing sector: {sector_name}\")\n",
    "print(f\"Recipes: {config.pipeline.recipes}\")\n",
    "print(f\"Reductions: {config.pipeline.reductions}\")\n",
    "\n",
    "# Store results for next step\n",
    "reduced_damages_results = {}\n",
    "\n",
    "for recipe in config.pipeline.recipes:\n",
    "    for reduction in config.pipeline.reductions:\n",
    "        print(f\"\\n  Processing: {recipe} x {reduction}\")\n",
    "\n",
    "        # Determine eta parameter based on recipe\n",
    "        eta = 2.0 if recipe in [\"risk_aversion\", \"equity\"] else None\n",
    "\n",
    "        # Create reduction step\n",
    "        step = ReduceDamagesStep(\n",
    "            config=config,\n",
    "            sector=sector_name,\n",
    "            recipe=recipe,\n",
    "            reduction=reduction,\n",
    "            eta=eta,\n",
    "            verbose=False,\n",
    "        )\n",
    "\n",
    "        # Execute step\n",
    "        # Note: save=False keeps result in memory\n",
    "        # Note: save=True writes to config.paths.reduced_damages_library\n",
    "        output = step.run(\n",
    "            inputs={\n",
    "                \"sector_damages_path\": sector_config.sector_path,\n",
    "                \"socioec_path\": config.econdata.global_ssp,\n",
    "            },\n",
    "            save=True,  # Change to False to keep only in memory\n",
    "        )\n",
    "\n",
    "        # Store result for next step\n",
    "        key = (recipe, reduction)\n",
    "        reduced_damages_results[key] = output[\"reduced_damages\"]\n",
    "\n",
    "        # Inspect result (now possible with explicit data flow)\n",
    "        result = reduced_damages_results[key]\n",
    "        if isinstance(result, xr.Dataset):\n",
    "            print(f\"    Type: Dataset with {len(result.data_vars)} variables\")\n",
    "            print(f\"    Variables: {list(result.data_vars)}\")\n",
    "        else:\n",
    "            print(f\"    Shape: {result.shape}\")\n",
    "            print(f\"    Type: {type(result).__name__}\")\n",
    "\n",
    "print(f\"\\nDamage reduction complete: {len(reduced_damages_results)} combinations\")\n",
    "\n"
   ]
  },
  {
   "cell_type": "code",
   "execution_count": 9,
   "id": "c12671c0-5b61-40f3-b1dc-4959362a2561",
   "metadata": {},
   "outputs": [
    {
     "name": "stdout",
     "output_type": "stream",
     "text": [
      "\n",
      "================================================================================\n",
      "STEP 4: GENERATE DAMAGE FUNCTIONS\n",
      "================================================================================\n",
      "\n",
      "Generating damage functions:\n",
      "  Sector: not_coastal\n",
      "  Pulse year: 2020\n",
      "\n",
      "  Processing: adding_up\n"
     ]
    },
    {
     "name": "stderr",
     "output_type": "stream",
     "text": [
      "/Users/sebastiancadavidsanchez/miniconda3/envs/dscim-refactoring/lib/python3.11/site-packages/zarr/core/dtype/npy/string.py:248: UnstableSpecificationWarning: The data type (FixedLengthUTF32(length=20, endianness='little')) does not have a Zarr V3 specification. That means that the representation of arrays saved with this data type may change without warning in a future version of Zarr Python. Arrays stored with this data type may be unreadable by other Zarr libraries. Use this data type at your own risk! Check https://github.com/zarr-developers/zarr-extensions/tree/main/data-types for the status of data type specifications for Zarr V3.\n",
      "  v3_unstable_dtype_warning(self)\n",
      "/Users/sebastiancadavidsanchez/miniconda3/envs/dscim-refactoring/lib/python3.11/site-packages/zarr/api/asynchronous.py:244: ZarrUserWarning: Consolidated metadata is currently not part in the Zarr format 3 specification. It may not be supported by other zarr implementations and may change in the future.\n",
      "  warnings.warn(\n",
      "/Users/sebastiancadavidsanchez/miniconda3/envs/dscim-refactoring/lib/python3.11/site-packages/zarr/core/dtype/npy/string.py:248: UnstableSpecificationWarning: The data type (FixedLengthUTF32(length=4, endianness='little')) does not have a Zarr V3 specification. That means that the representation of arrays saved with this data type may change without warning in a future version of Zarr Python. Arrays stored with this data type may be unreadable by other Zarr libraries. Use this data type at your own risk! Check https://github.com/zarr-developers/zarr-extensions/tree/main/data-types for the status of data type specifications for Zarr V3.\n",
      "  v3_unstable_dtype_warning(self)\n"
     ]
    },
    {
     "name": "stdout",
     "output_type": "stream",
     "text": [
      "    Coefficients shape: (2,)\n",
      "    Marginal damages shape: (11, 3)\n",
      "\n",
      "  Processing: risk_aversion\n"
     ]
    },
    {
     "name": "stderr",
     "output_type": "stream",
     "text": [
      "/Users/sebastiancadavidsanchez/miniconda3/envs/dscim-refactoring/lib/python3.11/site-packages/zarr/core/dtype/npy/string.py:248: UnstableSpecificationWarning: The data type (FixedLengthUTF32(length=20, endianness='little')) does not have a Zarr V3 specification. That means that the representation of arrays saved with this data type may change without warning in a future version of Zarr Python. Arrays stored with this data type may be unreadable by other Zarr libraries. Use this data type at your own risk! Check https://github.com/zarr-developers/zarr-extensions/tree/main/data-types for the status of data type specifications for Zarr V3.\n",
      "  v3_unstable_dtype_warning(self)\n",
      "/Users/sebastiancadavidsanchez/miniconda3/envs/dscim-refactoring/lib/python3.11/site-packages/zarr/api/asynchronous.py:244: ZarrUserWarning: Consolidated metadata is currently not part in the Zarr format 3 specification. It may not be supported by other zarr implementations and may change in the future.\n",
      "  warnings.warn(\n",
      "/Users/sebastiancadavidsanchez/miniconda3/envs/dscim-refactoring/lib/python3.11/site-packages/zarr/core/dtype/npy/string.py:248: UnstableSpecificationWarning: The data type (FixedLengthUTF32(length=4, endianness='little')) does not have a Zarr V3 specification. That means that the representation of arrays saved with this data type may change without warning in a future version of Zarr Python. Arrays stored with this data type may be unreadable by other Zarr libraries. Use this data type at your own risk! Check https://github.com/zarr-developers/zarr-extensions/tree/main/data-types for the status of data type specifications for Zarr V3.\n",
      "  v3_unstable_dtype_warning(self)\n"
     ]
    },
    {
     "name": "stdout",
     "output_type": "stream",
     "text": [
      "    Coefficients shape: (2,)\n",
      "    Marginal damages shape: (11, 3)\n",
      "\n",
      "  Processing: equity\n",
      "    Coefficients shape: (2,)\n",
      "    Marginal damages shape: (11, 3)\n",
      "\n",
      "Damage functions generated: 3 recipes\n"
     ]
    },
    {
     "name": "stderr",
     "output_type": "stream",
     "text": [
      "/Users/sebastiancadavidsanchez/miniconda3/envs/dscim-refactoring/lib/python3.11/site-packages/zarr/core/dtype/npy/string.py:248: UnstableSpecificationWarning: The data type (FixedLengthUTF32(length=20, endianness='little')) does not have a Zarr V3 specification. That means that the representation of arrays saved with this data type may change without warning in a future version of Zarr Python. Arrays stored with this data type may be unreadable by other Zarr libraries. Use this data type at your own risk! Check https://github.com/zarr-developers/zarr-extensions/tree/main/data-types for the status of data type specifications for Zarr V3.\n",
      "  v3_unstable_dtype_warning(self)\n",
      "/Users/sebastiancadavidsanchez/miniconda3/envs/dscim-refactoring/lib/python3.11/site-packages/zarr/api/asynchronous.py:244: ZarrUserWarning: Consolidated metadata is currently not part in the Zarr format 3 specification. It may not be supported by other zarr implementations and may change in the future.\n",
      "  warnings.warn(\n",
      "/Users/sebastiancadavidsanchez/miniconda3/envs/dscim-refactoring/lib/python3.11/site-packages/zarr/core/dtype/npy/string.py:248: UnstableSpecificationWarning: The data type (FixedLengthUTF32(length=4, endianness='little')) does not have a Zarr V3 specification. That means that the representation of arrays saved with this data type may change without warning in a future version of Zarr Python. Arrays stored with this data type may be unreadable by other Zarr libraries. Use this data type at your own risk! Check https://github.com/zarr-developers/zarr-extensions/tree/main/data-types for the status of data type specifications for Zarr V3.\n",
      "  v3_unstable_dtype_warning(self)\n"
     ]
    }
   ],
   "source": [
    "# =============================================================================\n",
    "# CELL 9: STEP 2 - Generate Damage Functions\n",
    "# =============================================================================\n",
    "\n",
    "print(\"\\n\" + \"=\" * 80)\n",
    "print(\"STEP 4: GENERATE DAMAGE FUNCTIONS\")\n",
    "print(\"=\" * 80)\n",
    "\n",
    "# Previous Approach:\n",
    "#   Embedded in run_ssps(), not separately accessible\n",
    "#   run_ssps(sectors, pulse_years, menu_discs, ...)\n",
    "#   Damage function generation happens internally\n",
    "\n",
    "# New Approach:\n",
    "#   Explicit step with accessible inputs/outputs\n",
    "#   step = GenerateDamageFunctionStep(config, sector, pulse_year)\n",
    "#   result = step.run(inputs={'reduced_damages': data}, save=False)\n",
    "\n",
    "# Key Difference:\n",
    "#   - Damage function results accessible before SCC calculation\n",
    "#   - Can inspect fit quality, coefficients, marginal damages\n",
    "#   - Save or keep in memory independently\n",
    "\n",
    "pulse_year = config.scc.pulse_years[0]\n",
    "damage_function_results = {}\n",
    "\n",
    "print(f\"\\nGenerating damage functions:\")\n",
    "print(f\"  Sector: {sector_name}\")\n",
    "print(f\"  Pulse year: {pulse_year}\")\n",
    "\n",
    "for recipe in config.pipeline.recipes:\n",
    "    print(f\"\\n  Processing: {recipe}\")\n",
    "\n",
    "    # Use 'cc' reduction for damage function generation\n",
    "    key = (recipe, \"cc\")\n",
    "    if key not in reduced_damages_results:\n",
    "        print(f\"    Warning: No reduced damages found, skipping\")\n",
    "        continue\n",
    "\n",
    "    reduced_damages = reduced_damages_results[key]\n",
    "\n",
    "    # Create damage function step\n",
    "    # Note: Step doesn't need recipe/eta - those are embedded in reduced_damages\n",
    "    step = GenerateDamageFunctionStep(\n",
    "        config=config,\n",
    "        sector=sector_name,\n",
    "        pulse_year=pulse_year,\n",
    "        verbose=False,\n",
    "    )\n",
    "\n",
    "    # Execute step with explicit input\n",
    "    output = step.run(\n",
    "        inputs={\"reduced_damages\": reduced_damages},\n",
    "        save=True,  # Change to False for in-memory only\n",
    "    )\n",
    "\n",
    "    # Store results\n",
    "    damage_function_results[recipe] = output\n",
    "\n",
    "    # Inspect outputs (now accessible)\n",
    "    coefs = output[\"damage_function_coefficients\"]\n",
    "    marg_dmg = output[\"marginal_damages\"]\n",
    "\n",
    "    if isinstance(coefs, xr.Dataset):\n",
    "        print(f\"    Coefficients: Dataset with {len(coefs.data_vars)} variables\")\n",
    "    else:\n",
    "        print(f\"    Coefficients shape: {coefs.shape}\")\n",
    "\n",
    "    if isinstance(marg_dmg, xr.Dataset):\n",
    "        print(f\"    Marginal damages: Dataset with {len(marg_dmg.data_vars)} variables\")\n",
    "    else:\n",
    "        print(f\"    Marginal damages shape: {marg_dmg.shape}\")\n",
    "\n",
    "print(f\"\\nDamage functions generated: {len(damage_function_results)} recipes\")\n"
   ]
  },
  {
   "cell_type": "code",
   "execution_count": 10,
   "id": "0e0df19d-8b30-4afd-9d45-abe5b0b87318",
   "metadata": {},
   "outputs": [
    {
     "name": "stdout",
     "output_type": "stream",
     "text": [
      "\n",
      "Inspecting damage function results...\n",
      "\n",
      "Sample recipe: adding_up\n",
      "  Coefficients shape: (2,)\n",
      "  Marginal damages shape: (11, 3)\n",
      "  Coefficients: [  823.83284856 -2951.74393764]\n"
     ]
    }
   ],
   "source": [
    "\n",
    "# =============================================================================\n",
    "# CELL 10: Inspect Damage Functions (Optional)\n",
    "# =============================================================================\n",
    "\n",
    "print(\"\\nInspecting damage function results...\")\n",
    "\n",
    "# Example: Look at coefficients for one recipe\n",
    "sample_recipe = list(damage_function_results.keys())[0]\n",
    "sample_df = damage_function_results[sample_recipe]\n",
    "\n",
    "print(f\"\\nSample recipe: {sample_recipe}\")\n",
    "print(f\"  Coefficients shape: {sample_df['damage_function_coefficients'].shape}\")\n",
    "print(f\"  Marginal damages shape: {sample_df['marginal_damages'].shape}\")\n",
    "\n",
    "# Access coefficient values\n",
    "coefs = sample_df['damage_function_coefficients']\n",
    "print(f\"  Coefficients: {coefs.values}\")"
   ]
  },
  {
   "cell_type": "code",
   "execution_count": 11,
   "id": "f4c28a6b-7f87-4d34-80cd-9d6b2f94b2fe",
   "metadata": {},
   "outputs": [
    {
     "name": "stdout",
     "output_type": "stream",
     "text": [
      "\n",
      "================================================================================\n",
      "STEP 5: CALCULATE SCC - Load Economic Data\n",
      "================================================================================\n",
      "\n",
      "Loading economic data...\n",
      "  Consumption loaded: (11, 5, 2, 2)\n",
      "  Dimensions: ['year', 'ssp', 'region', 'model']\n"
     ]
    }
   ],
   "source": [
    "\n",
    "# =============================================================================\n",
    "# CELL 11: Load Economic Data for SCC Calculation\n",
    "# =============================================================================\n",
    "\n",
    "print(\"\\n\" + \"=\" * 80)\n",
    "print(\"STEP 5: CALCULATE SCC - Load Economic Data\")\n",
    "print(\"=\" * 80)\n",
    "\n",
    "# Load consumption data (required for SCC calculation)\n",
    "print(\"\\nLoading economic data...\")\n",
    "try:\n",
    "    econ_data = xr.open_zarr(config.econdata.global_ssp, chunks=None)\n",
    "    consumption = econ_data[\"gdppc\"]\n",
    "    print(f\"  Consumption loaded: {consumption.shape}\")\n",
    "    print(f\"  Dimensions: {list(consumption.dims)}\")\n",
    "except Exception as e:\n",
    "    print(f\"  Error: {e}\")\n",
    "    consumption = None"
   ]
  },
  {
   "cell_type": "code",
   "execution_count": 12,
   "id": "749c9a2f-25f0-48c7-9c99-5d458faabc6d",
   "metadata": {},
   "outputs": [
    {
     "name": "stdout",
     "output_type": "stream",
     "text": [
      "\n",
      "================================================================================\n",
      "STEP 5: CALCULATE SCC - All Recipe-Discount Combinations\n",
      "================================================================================\n",
      "\n",
      "Calculating SCC for 15 combinations:\n",
      "  3 recipes x 5 discount methods\n",
      "\n",
      "  [1/15] adding_up x naive_gwr\n",
      "    SCC shape: (3,)\n",
      "    SCC mean: 647.37\n",
      "    Discount factors: (11,)\n",
      "\n",
      "  [2/15] adding_up x naive_gwr\n"
     ]
    },
    {
     "name": "stderr",
     "output_type": "stream",
     "text": [
      "/Users/sebastiancadavidsanchez/miniconda3/envs/dscim-refactoring/lib/python3.11/site-packages/zarr/core/dtype/npy/string.py:248: UnstableSpecificationWarning: The data type (FixedLengthUTF32(length=4, endianness='little')) does not have a Zarr V3 specification. That means that the representation of arrays saved with this data type may change without warning in a future version of Zarr Python. Arrays stored with this data type may be unreadable by other Zarr libraries. Use this data type at your own risk! Check https://github.com/zarr-developers/zarr-extensions/tree/main/data-types for the status of data type specifications for Zarr V3.\n",
      "  v3_unstable_dtype_warning(self)\n",
      "/Users/sebastiancadavidsanchez/miniconda3/envs/dscim-refactoring/lib/python3.11/site-packages/zarr/api/asynchronous.py:244: ZarrUserWarning: Consolidated metadata is currently not part in the Zarr format 3 specification. It may not be supported by other zarr implementations and may change in the future.\n",
      "  warnings.warn(\n",
      "/Users/sebastiancadavidsanchez/miniconda3/envs/dscim-refactoring/lib/python3.11/site-packages/zarr/core/dtype/npy/string.py:248: UnstableSpecificationWarning: The data type (FixedLengthUTF32(length=7, endianness='little')) does not have a Zarr V3 specification. That means that the representation of arrays saved with this data type may change without warning in a future version of Zarr Python. Arrays stored with this data type may be unreadable by other Zarr libraries. Use this data type at your own risk! Check https://github.com/zarr-developers/zarr-extensions/tree/main/data-types for the status of data type specifications for Zarr V3.\n",
      "  v3_unstable_dtype_warning(self)\n",
      "/Users/sebastiancadavidsanchez/miniconda3/envs/dscim-refactoring/lib/python3.11/site-packages/zarr/core/dtype/npy/string.py:248: UnstableSpecificationWarning: The data type (FixedLengthUTF32(length=4, endianness='little')) does not have a Zarr V3 specification. That means that the representation of arrays saved with this data type may change without warning in a future version of Zarr Python. Arrays stored with this data type may be unreadable by other Zarr libraries. Use this data type at your own risk! Check https://github.com/zarr-developers/zarr-extensions/tree/main/data-types for the status of data type specifications for Zarr V3.\n",
      "  v3_unstable_dtype_warning(self)\n",
      "/Users/sebastiancadavidsanchez/miniconda3/envs/dscim-refactoring/lib/python3.11/site-packages/zarr/api/asynchronous.py:244: ZarrUserWarning: Consolidated metadata is currently not part in the Zarr format 3 specification. It may not be supported by other zarr implementations and may change in the future.\n",
      "  warnings.warn(\n",
      "/Users/sebastiancadavidsanchez/miniconda3/envs/dscim-refactoring/lib/python3.11/site-packages/zarr/core/dtype/npy/string.py:248: UnstableSpecificationWarning: The data type (FixedLengthUTF32(length=7, endianness='little')) does not have a Zarr V3 specification. That means that the representation of arrays saved with this data type may change without warning in a future version of Zarr Python. Arrays stored with this data type may be unreadable by other Zarr libraries. Use this data type at your own risk! Check https://github.com/zarr-developers/zarr-extensions/tree/main/data-types for the status of data type specifications for Zarr V3.\n",
      "  v3_unstable_dtype_warning(self)\n",
      "/Users/sebastiancadavidsanchez/miniconda3/envs/dscim-refactoring/lib/python3.11/site-packages/zarr/core/dtype/npy/string.py:248: UnstableSpecificationWarning: The data type (FixedLengthUTF32(length=4, endianness='little')) does not have a Zarr V3 specification. That means that the representation of arrays saved with this data type may change without warning in a future version of Zarr Python. Arrays stored with this data type may be unreadable by other Zarr libraries. Use this data type at your own risk! Check https://github.com/zarr-developers/zarr-extensions/tree/main/data-types for the status of data type specifications for Zarr V3.\n",
      "  v3_unstable_dtype_warning(self)\n",
      "/Users/sebastiancadavidsanchez/miniconda3/envs/dscim-refactoring/lib/python3.11/site-packages/zarr/api/asynchronous.py:244: ZarrUserWarning: Consolidated metadata is currently not part in the Zarr format 3 specification. It may not be supported by other zarr implementations and may change in the future.\n",
      "  warnings.warn(\n"
     ]
    },
    {
     "name": "stdout",
     "output_type": "stream",
     "text": [
      "    SCC shape: (3, 5, 2)\n",
      "    SCC mean: 625.16\n",
      "    Discount factors: (11, 5, 2, 2)\n",
      "\n",
      "  [3/15] adding_up x naive_gwr\n",
      "    SCC shape: (3, 5, 2)\n",
      "    SCC mean: 625.16\n",
      "    Discount factors: (11, 5, 2, 2)\n",
      "\n",
      "  [4/15] adding_up x naive_gwr\n",
      "    SCC shape: (3, 2)\n",
      "    SCC mean: 621.79\n",
      "    Discount factors: (11, 2)\n",
      "\n",
      "  [5/15] adding_up x euler_gwr\n"
     ]
    },
    {
     "name": "stderr",
     "output_type": "stream",
     "text": [
      "/Users/sebastiancadavidsanchez/miniconda3/envs/dscim-refactoring/lib/python3.11/site-packages/zarr/core/dtype/npy/string.py:248: UnstableSpecificationWarning: The data type (FixedLengthUTF32(length=7, endianness='little')) does not have a Zarr V3 specification. That means that the representation of arrays saved with this data type may change without warning in a future version of Zarr Python. Arrays stored with this data type may be unreadable by other Zarr libraries. Use this data type at your own risk! Check https://github.com/zarr-developers/zarr-extensions/tree/main/data-types for the status of data type specifications for Zarr V3.\n",
      "  v3_unstable_dtype_warning(self)\n",
      "/Users/sebastiancadavidsanchez/miniconda3/envs/dscim-refactoring/lib/python3.11/site-packages/zarr/core/dtype/npy/string.py:248: UnstableSpecificationWarning: The data type (FixedLengthUTF32(length=4, endianness='little')) does not have a Zarr V3 specification. That means that the representation of arrays saved with this data type may change without warning in a future version of Zarr Python. Arrays stored with this data type may be unreadable by other Zarr libraries. Use this data type at your own risk! Check https://github.com/zarr-developers/zarr-extensions/tree/main/data-types for the status of data type specifications for Zarr V3.\n",
      "  v3_unstable_dtype_warning(self)\n",
      "/Users/sebastiancadavidsanchez/miniconda3/envs/dscim-refactoring/lib/python3.11/site-packages/zarr/api/asynchronous.py:244: ZarrUserWarning: Consolidated metadata is currently not part in the Zarr format 3 specification. It may not be supported by other zarr implementations and may change in the future.\n",
      "  warnings.warn(\n",
      "/Users/sebastiancadavidsanchez/miniconda3/envs/dscim-refactoring/lib/python3.11/site-packages/zarr/core/dtype/npy/string.py:248: UnstableSpecificationWarning: The data type (FixedLengthUTF32(length=7, endianness='little')) does not have a Zarr V3 specification. That means that the representation of arrays saved with this data type may change without warning in a future version of Zarr Python. Arrays stored with this data type may be unreadable by other Zarr libraries. Use this data type at your own risk! Check https://github.com/zarr-developers/zarr-extensions/tree/main/data-types for the status of data type specifications for Zarr V3.\n",
      "  v3_unstable_dtype_warning(self)\n",
      "/Users/sebastiancadavidsanchez/miniconda3/envs/dscim-refactoring/lib/python3.11/site-packages/zarr/core/dtype/npy/string.py:248: UnstableSpecificationWarning: The data type (FixedLengthUTF32(length=4, endianness='little')) does not have a Zarr V3 specification. That means that the representation of arrays saved with this data type may change without warning in a future version of Zarr Python. Arrays stored with this data type may be unreadable by other Zarr libraries. Use this data type at your own risk! Check https://github.com/zarr-developers/zarr-extensions/tree/main/data-types for the status of data type specifications for Zarr V3.\n",
      "  v3_unstable_dtype_warning(self)\n",
      "/Users/sebastiancadavidsanchez/miniconda3/envs/dscim-refactoring/lib/python3.11/site-packages/zarr/api/asynchronous.py:244: ZarrUserWarning: Consolidated metadata is currently not part in the Zarr format 3 specification. It may not be supported by other zarr implementations and may change in the future.\n",
      "  warnings.warn(\n",
      "/Users/sebastiancadavidsanchez/miniconda3/envs/dscim-refactoring/lib/python3.11/site-packages/zarr/core/dtype/npy/string.py:248: UnstableSpecificationWarning: The data type (FixedLengthUTF32(length=4, endianness='little')) does not have a Zarr V3 specification. That means that the representation of arrays saved with this data type may change without warning in a future version of Zarr Python. Arrays stored with this data type may be unreadable by other Zarr libraries. Use this data type at your own risk! Check https://github.com/zarr-developers/zarr-extensions/tree/main/data-types for the status of data type specifications for Zarr V3.\n",
      "  v3_unstable_dtype_warning(self)\n",
      "/Users/sebastiancadavidsanchez/miniconda3/envs/dscim-refactoring/lib/python3.11/site-packages/zarr/api/asynchronous.py:244: ZarrUserWarning: Consolidated metadata is currently not part in the Zarr format 3 specification. It may not be supported by other zarr implementations and may change in the future.\n",
      "  warnings.warn(\n",
      "/Users/sebastiancadavidsanchez/miniconda3/envs/dscim-refactoring/lib/python3.11/site-packages/zarr/core/dtype/npy/string.py:248: UnstableSpecificationWarning: The data type (FixedLengthUTF32(length=7, endianness='little')) does not have a Zarr V3 specification. That means that the representation of arrays saved with this data type may change without warning in a future version of Zarr Python. Arrays stored with this data type may be unreadable by other Zarr libraries. Use this data type at your own risk! Check https://github.com/zarr-developers/zarr-extensions/tree/main/data-types for the status of data type specifications for Zarr V3.\n",
      "  v3_unstable_dtype_warning(self)\n",
      "/Users/sebastiancadavidsanchez/miniconda3/envs/dscim-refactoring/lib/python3.11/site-packages/zarr/core/dtype/npy/string.py:248: UnstableSpecificationWarning: The data type (FixedLengthUTF32(length=4, endianness='little')) does not have a Zarr V3 specification. That means that the representation of arrays saved with this data type may change without warning in a future version of Zarr Python. Arrays stored with this data type may be unreadable by other Zarr libraries. Use this data type at your own risk! Check https://github.com/zarr-developers/zarr-extensions/tree/main/data-types for the status of data type specifications for Zarr V3.\n",
      "  v3_unstable_dtype_warning(self)\n",
      "/Users/sebastiancadavidsanchez/miniconda3/envs/dscim-refactoring/lib/python3.11/site-packages/zarr/api/asynchronous.py:244: ZarrUserWarning: Consolidated metadata is currently not part in the Zarr format 3 specification. It may not be supported by other zarr implementations and may change in the future.\n",
      "  warnings.warn(\n"
     ]
    },
    {
     "name": "stdout",
     "output_type": "stream",
     "text": [
      "    SCC shape: (3, 2)\n",
      "    SCC mean: 621.79\n",
      "    Discount factors: (11, 2)\n",
      "\n",
      "  [6/15] risk_aversion x naive_gwr\n",
      "    SCC shape: (3,)\n",
      "    SCC mean: 642.94\n",
      "    Discount factors: (11,)\n",
      "\n",
      "  [7/15] risk_aversion x naive_gwr\n",
      "    SCC shape: (3, 5, 2)\n",
      "    SCC mean: 620.44\n",
      "    Discount factors: (11, 5, 2, 2)\n",
      "\n",
      "  [8/15] risk_aversion x naive_gwr\n"
     ]
    },
    {
     "name": "stderr",
     "output_type": "stream",
     "text": [
      "/Users/sebastiancadavidsanchez/miniconda3/envs/dscim-refactoring/lib/python3.11/site-packages/zarr/core/dtype/npy/string.py:248: UnstableSpecificationWarning: The data type (FixedLengthUTF32(length=7, endianness='little')) does not have a Zarr V3 specification. That means that the representation of arrays saved with this data type may change without warning in a future version of Zarr Python. Arrays stored with this data type may be unreadable by other Zarr libraries. Use this data type at your own risk! Check https://github.com/zarr-developers/zarr-extensions/tree/main/data-types for the status of data type specifications for Zarr V3.\n",
      "  v3_unstable_dtype_warning(self)\n",
      "/Users/sebastiancadavidsanchez/miniconda3/envs/dscim-refactoring/lib/python3.11/site-packages/zarr/core/dtype/npy/string.py:248: UnstableSpecificationWarning: The data type (FixedLengthUTF32(length=4, endianness='little')) does not have a Zarr V3 specification. That means that the representation of arrays saved with this data type may change without warning in a future version of Zarr Python. Arrays stored with this data type may be unreadable by other Zarr libraries. Use this data type at your own risk! Check https://github.com/zarr-developers/zarr-extensions/tree/main/data-types for the status of data type specifications for Zarr V3.\n",
      "  v3_unstable_dtype_warning(self)\n",
      "/Users/sebastiancadavidsanchez/miniconda3/envs/dscim-refactoring/lib/python3.11/site-packages/zarr/api/asynchronous.py:244: ZarrUserWarning: Consolidated metadata is currently not part in the Zarr format 3 specification. It may not be supported by other zarr implementations and may change in the future.\n",
      "  warnings.warn(\n",
      "/Users/sebastiancadavidsanchez/miniconda3/envs/dscim-refactoring/lib/python3.11/site-packages/zarr/core/dtype/npy/string.py:248: UnstableSpecificationWarning: The data type (FixedLengthUTF32(length=7, endianness='little')) does not have a Zarr V3 specification. That means that the representation of arrays saved with this data type may change without warning in a future version of Zarr Python. Arrays stored with this data type may be unreadable by other Zarr libraries. Use this data type at your own risk! Check https://github.com/zarr-developers/zarr-extensions/tree/main/data-types for the status of data type specifications for Zarr V3.\n",
      "  v3_unstable_dtype_warning(self)\n",
      "/Users/sebastiancadavidsanchez/miniconda3/envs/dscim-refactoring/lib/python3.11/site-packages/zarr/core/dtype/npy/string.py:248: UnstableSpecificationWarning: The data type (FixedLengthUTF32(length=4, endianness='little')) does not have a Zarr V3 specification. That means that the representation of arrays saved with this data type may change without warning in a future version of Zarr Python. Arrays stored with this data type may be unreadable by other Zarr libraries. Use this data type at your own risk! Check https://github.com/zarr-developers/zarr-extensions/tree/main/data-types for the status of data type specifications for Zarr V3.\n",
      "  v3_unstable_dtype_warning(self)\n",
      "/Users/sebastiancadavidsanchez/miniconda3/envs/dscim-refactoring/lib/python3.11/site-packages/zarr/api/asynchronous.py:244: ZarrUserWarning: Consolidated metadata is currently not part in the Zarr format 3 specification. It may not be supported by other zarr implementations and may change in the future.\n",
      "  warnings.warn(\n",
      "/Users/sebastiancadavidsanchez/miniconda3/envs/dscim-refactoring/lib/python3.11/site-packages/zarr/core/dtype/npy/string.py:248: UnstableSpecificationWarning: The data type (FixedLengthUTF32(length=7, endianness='little')) does not have a Zarr V3 specification. That means that the representation of arrays saved with this data type may change without warning in a future version of Zarr Python. Arrays stored with this data type may be unreadable by other Zarr libraries. Use this data type at your own risk! Check https://github.com/zarr-developers/zarr-extensions/tree/main/data-types for the status of data type specifications for Zarr V3.\n",
      "  v3_unstable_dtype_warning(self)\n"
     ]
    },
    {
     "name": "stdout",
     "output_type": "stream",
     "text": [
      "    SCC shape: (3, 5, 2)\n",
      "    SCC mean: 620.44\n",
      "    Discount factors: (11, 5, 2, 2)\n",
      "\n",
      "  [9/15] risk_aversion x naive_gwr\n",
      "    SCC shape: (3, 2)\n",
      "    SCC mean: 617.08\n",
      "    Discount factors: (11, 2)\n",
      "\n",
      "  [10/15] risk_aversion x euler_gwr\n",
      "    SCC shape: (3, 2)\n",
      "    SCC mean: 617.08\n",
      "    Discount factors: (11, 2)\n",
      "\n",
      "  [11/15] equity x naive_gwr\n"
     ]
    },
    {
     "name": "stderr",
     "output_type": "stream",
     "text": [
      "/Users/sebastiancadavidsanchez/miniconda3/envs/dscim-refactoring/lib/python3.11/site-packages/zarr/core/dtype/npy/string.py:248: UnstableSpecificationWarning: The data type (FixedLengthUTF32(length=4, endianness='little')) does not have a Zarr V3 specification. That means that the representation of arrays saved with this data type may change without warning in a future version of Zarr Python. Arrays stored with this data type may be unreadable by other Zarr libraries. Use this data type at your own risk! Check https://github.com/zarr-developers/zarr-extensions/tree/main/data-types for the status of data type specifications for Zarr V3.\n",
      "  v3_unstable_dtype_warning(self)\n",
      "/Users/sebastiancadavidsanchez/miniconda3/envs/dscim-refactoring/lib/python3.11/site-packages/zarr/api/asynchronous.py:244: ZarrUserWarning: Consolidated metadata is currently not part in the Zarr format 3 specification. It may not be supported by other zarr implementations and may change in the future.\n",
      "  warnings.warn(\n",
      "/Users/sebastiancadavidsanchez/miniconda3/envs/dscim-refactoring/lib/python3.11/site-packages/zarr/core/dtype/npy/string.py:248: UnstableSpecificationWarning: The data type (FixedLengthUTF32(length=4, endianness='little')) does not have a Zarr V3 specification. That means that the representation of arrays saved with this data type may change without warning in a future version of Zarr Python. Arrays stored with this data type may be unreadable by other Zarr libraries. Use this data type at your own risk! Check https://github.com/zarr-developers/zarr-extensions/tree/main/data-types for the status of data type specifications for Zarr V3.\n",
      "  v3_unstable_dtype_warning(self)\n",
      "/Users/sebastiancadavidsanchez/miniconda3/envs/dscim-refactoring/lib/python3.11/site-packages/zarr/api/asynchronous.py:244: ZarrUserWarning: Consolidated metadata is currently not part in the Zarr format 3 specification. It may not be supported by other zarr implementations and may change in the future.\n",
      "  warnings.warn(\n",
      "/Users/sebastiancadavidsanchez/miniconda3/envs/dscim-refactoring/lib/python3.11/site-packages/zarr/core/dtype/npy/string.py:248: UnstableSpecificationWarning: The data type (FixedLengthUTF32(length=7, endianness='little')) does not have a Zarr V3 specification. That means that the representation of arrays saved with this data type may change without warning in a future version of Zarr Python. Arrays stored with this data type may be unreadable by other Zarr libraries. Use this data type at your own risk! Check https://github.com/zarr-developers/zarr-extensions/tree/main/data-types for the status of data type specifications for Zarr V3.\n",
      "  v3_unstable_dtype_warning(self)\n",
      "/Users/sebastiancadavidsanchez/miniconda3/envs/dscim-refactoring/lib/python3.11/site-packages/zarr/core/dtype/npy/string.py:248: UnstableSpecificationWarning: The data type (FixedLengthUTF32(length=4, endianness='little')) does not have a Zarr V3 specification. That means that the representation of arrays saved with this data type may change without warning in a future version of Zarr Python. Arrays stored with this data type may be unreadable by other Zarr libraries. Use this data type at your own risk! Check https://github.com/zarr-developers/zarr-extensions/tree/main/data-types for the status of data type specifications for Zarr V3.\n",
      "  v3_unstable_dtype_warning(self)\n",
      "/Users/sebastiancadavidsanchez/miniconda3/envs/dscim-refactoring/lib/python3.11/site-packages/zarr/api/asynchronous.py:244: ZarrUserWarning: Consolidated metadata is currently not part in the Zarr format 3 specification. It may not be supported by other zarr implementations and may change in the future.\n",
      "  warnings.warn(\n"
     ]
    },
    {
     "name": "stdout",
     "output_type": "stream",
     "text": [
      "    SCC shape: (3,)\n",
      "    SCC mean: 642.94\n",
      "    Discount factors: (11,)\n",
      "\n",
      "  [12/15] equity x naive_gwr\n",
      "    SCC shape: (3, 5, 2)\n",
      "    SCC mean: 620.44\n",
      "    Discount factors: (11, 5, 2, 2)\n",
      "\n",
      "  [13/15] equity x naive_gwr\n"
     ]
    },
    {
     "name": "stderr",
     "output_type": "stream",
     "text": [
      "/Users/sebastiancadavidsanchez/miniconda3/envs/dscim-refactoring/lib/python3.11/site-packages/zarr/core/dtype/npy/string.py:248: UnstableSpecificationWarning: The data type (FixedLengthUTF32(length=7, endianness='little')) does not have a Zarr V3 specification. That means that the representation of arrays saved with this data type may change without warning in a future version of Zarr Python. Arrays stored with this data type may be unreadable by other Zarr libraries. Use this data type at your own risk! Check https://github.com/zarr-developers/zarr-extensions/tree/main/data-types for the status of data type specifications for Zarr V3.\n",
      "  v3_unstable_dtype_warning(self)\n",
      "/Users/sebastiancadavidsanchez/miniconda3/envs/dscim-refactoring/lib/python3.11/site-packages/zarr/core/dtype/npy/string.py:248: UnstableSpecificationWarning: The data type (FixedLengthUTF32(length=4, endianness='little')) does not have a Zarr V3 specification. That means that the representation of arrays saved with this data type may change without warning in a future version of Zarr Python. Arrays stored with this data type may be unreadable by other Zarr libraries. Use this data type at your own risk! Check https://github.com/zarr-developers/zarr-extensions/tree/main/data-types for the status of data type specifications for Zarr V3.\n",
      "  v3_unstable_dtype_warning(self)\n",
      "/Users/sebastiancadavidsanchez/miniconda3/envs/dscim-refactoring/lib/python3.11/site-packages/zarr/api/asynchronous.py:244: ZarrUserWarning: Consolidated metadata is currently not part in the Zarr format 3 specification. It may not be supported by other zarr implementations and may change in the future.\n",
      "  warnings.warn(\n",
      "/Users/sebastiancadavidsanchez/miniconda3/envs/dscim-refactoring/lib/python3.11/site-packages/zarr/core/dtype/npy/string.py:248: UnstableSpecificationWarning: The data type (FixedLengthUTF32(length=7, endianness='little')) does not have a Zarr V3 specification. That means that the representation of arrays saved with this data type may change without warning in a future version of Zarr Python. Arrays stored with this data type may be unreadable by other Zarr libraries. Use this data type at your own risk! Check https://github.com/zarr-developers/zarr-extensions/tree/main/data-types for the status of data type specifications for Zarr V3.\n",
      "  v3_unstable_dtype_warning(self)\n",
      "/Users/sebastiancadavidsanchez/miniconda3/envs/dscim-refactoring/lib/python3.11/site-packages/zarr/core/dtype/npy/string.py:248: UnstableSpecificationWarning: The data type (FixedLengthUTF32(length=4, endianness='little')) does not have a Zarr V3 specification. That means that the representation of arrays saved with this data type may change without warning in a future version of Zarr Python. Arrays stored with this data type may be unreadable by other Zarr libraries. Use this data type at your own risk! Check https://github.com/zarr-developers/zarr-extensions/tree/main/data-types for the status of data type specifications for Zarr V3.\n",
      "  v3_unstable_dtype_warning(self)\n",
      "/Users/sebastiancadavidsanchez/miniconda3/envs/dscim-refactoring/lib/python3.11/site-packages/zarr/api/asynchronous.py:244: ZarrUserWarning: Consolidated metadata is currently not part in the Zarr format 3 specification. It may not be supported by other zarr implementations and may change in the future.\n",
      "  warnings.warn(\n",
      "/Users/sebastiancadavidsanchez/miniconda3/envs/dscim-refactoring/lib/python3.11/site-packages/zarr/core/dtype/npy/string.py:248: UnstableSpecificationWarning: The data type (FixedLengthUTF32(length=7, endianness='little')) does not have a Zarr V3 specification. That means that the representation of arrays saved with this data type may change without warning in a future version of Zarr Python. Arrays stored with this data type may be unreadable by other Zarr libraries. Use this data type at your own risk! Check https://github.com/zarr-developers/zarr-extensions/tree/main/data-types for the status of data type specifications for Zarr V3.\n",
      "  v3_unstable_dtype_warning(self)\n",
      "/Users/sebastiancadavidsanchez/miniconda3/envs/dscim-refactoring/lib/python3.11/site-packages/zarr/core/dtype/npy/string.py:248: UnstableSpecificationWarning: The data type (FixedLengthUTF32(length=4, endianness='little')) does not have a Zarr V3 specification. That means that the representation of arrays saved with this data type may change without warning in a future version of Zarr Python. Arrays stored with this data type may be unreadable by other Zarr libraries. Use this data type at your own risk! Check https://github.com/zarr-developers/zarr-extensions/tree/main/data-types for the status of data type specifications for Zarr V3.\n",
      "  v3_unstable_dtype_warning(self)\n",
      "/Users/sebastiancadavidsanchez/miniconda3/envs/dscim-refactoring/lib/python3.11/site-packages/zarr/api/asynchronous.py:244: ZarrUserWarning: Consolidated metadata is currently not part in the Zarr format 3 specification. It may not be supported by other zarr implementations and may change in the future.\n",
      "  warnings.warn(\n"
     ]
    },
    {
     "name": "stdout",
     "output_type": "stream",
     "text": [
      "    SCC shape: (3, 5, 2)\n",
      "    SCC mean: 620.44\n",
      "    Discount factors: (11, 5, 2, 2)\n",
      "\n",
      "  [14/15] equity x naive_gwr\n",
      "    SCC shape: (3, 2)\n",
      "    SCC mean: 617.08\n",
      "    Discount factors: (11, 2)\n",
      "\n",
      "  [15/15] equity x euler_gwr\n",
      "    SCC shape: (3, 2)\n",
      "    SCC mean: 617.08\n",
      "    Discount factors: (11, 2)\n",
      "\n",
      "SCC calculation complete: 6 combinations\n"
     ]
    }
   ],
   "source": [
    "\n",
    "# =============================================================================\n",
    "# CELL 12: Calculate SCC for All Combinations\n",
    "# =============================================================================\n",
    "\n",
    "print(\"\\n\" + \"=\" * 80)\n",
    "print(\"STEP 5: CALCULATE SCC - All Recipe-Discount Combinations\")\n",
    "print(\"=\" * 80)\n",
    "\n",
    "# Previous Approach:\n",
    "#   Embedded in run_ssps(), all processed internally\n",
    "#   run_ssps(sectors, pulse_years, menu_discs, eta_rhos, ...)\n",
    "#   No visibility into which combination is running\n",
    "\n",
    "# New Approach:\n",
    "#   Explicit iteration with progress tracking\n",
    "#   for recipe in recipes:\n",
    "#       for discount_config in discount_configs:\n",
    "#           step = CalculateSCCStep(...)\n",
    "#           result = step.run(...)\n",
    "\n",
    "# Key Difference:\n",
    "#   - See exactly which combination is processing\n",
    "#   - Access all intermediate outputs (discount factors, consumption, etc.)\n",
    "#   - Errors in one combination don't stop others\n",
    "#   - Can process subsets\n",
    "\n",
    "if consumption is None:\n",
    "    print(\"Cannot proceed without consumption data\")\n",
    "else:\n",
    "    scc_results = {}\n",
    "    combination_count = 0\n",
    "\n",
    "    print(f\"\\nCalculating SCC for {n_combinations} combinations:\")\n",
    "    print(f\"  {n_recipes} recipes x {n_discount_methods} discount methods\")\n",
    "\n",
    "    for recipe in config.pipeline.recipes:\n",
    "        if recipe not in damage_function_results:\n",
    "            print(f\"\\n  Warning: No damage function for {recipe}, skipping\")\n",
    "            continue\n",
    "\n",
    "        marginal_damages = damage_function_results[recipe][\"marginal_damages\"]\n",
    "\n",
    "        for disc_idx, discount_config in enumerate(config.discounting):\n",
    "            combination_count += 1\n",
    "\n",
    "            # Create readable name\n",
    "            discount_name = discount_config.discount_type\n",
    "            if hasattr(discount_config, \"ramsey_method\") and discount_config.ramsey_method:\n",
    "                discount_name = discount_config.ramsey_method\n",
    "            elif hasattr(discount_config, \"gwr_method\") and discount_config.gwr_method:\n",
    "                discount_name = discount_config.gwr_method\n",
    "\n",
    "            print(f\"\\n  [{combination_count}/{n_combinations}] {recipe} x {discount_name}\")\n",
    "\n",
    "            # Create SCC calculation step\n",
    "            step = CalculateSCCStep(\n",
    "                config=config,\n",
    "                sector=sector_name,\n",
    "                pulse_year=pulse_year,\n",
    "                recipe=recipe,\n",
    "                discount_config_index=disc_idx,\n",
    "                verbose=False,\n",
    "            )\n",
    "\n",
    "            # Execute step with explicit inputs\n",
    "            try:\n",
    "                output = step.run(\n",
    "                    inputs={\n",
    "                        \"marginal_damages\": marginal_damages,\n",
    "                        \"consumption\": consumption,\n",
    "                    },\n",
    "                    save=True,  # Change to False for in-memory only\n",
    "                )\n",
    "\n",
    "                # Store result\n",
    "                key = (recipe, discount_name)\n",
    "                scc_results[key] = output\n",
    "\n",
    "                # Inspect outputs (now accessible)\n",
    "                scc = output[\"scc\"]\n",
    "                print(f\"    SCC shape: {scc.shape}\")\n",
    "                print(f\"    SCC mean: {float(scc.mean()):.2f}\")\n",
    "\n",
    "                # Additional outputs accessible\n",
    "                if \"discount_factors\" in output:\n",
    "                    print(f\"    Discount factors: {output['discount_factors'].shape}\")\n",
    "                if \"global_consumption\" in output:\n",
    "                    print(f\"    Global consumption: {output['global_consumption'].shape}\")\n",
    "\n",
    "            except Exception as e:\n",
    "                print(f\"    Error: {str(e)[:100]}\")\n",
    "\n",
    "    print(f\"\\nSCC calculation complete: {len(scc_results)} combinations\")\n"
   ]
  },
  {
   "cell_type": "code",
   "execution_count": null,
   "id": "961cb2d6-ada3-488c-ab8c-751a9b0d5ea1",
   "metadata": {},
   "outputs": [],
   "source": []
  }
 ],
 "metadata": {
  "kernelspec": {
   "display_name": "Python (dscim-refactoring-dev)",
   "language": "python",
   "name": "dscim-refactoring-dev"
  },
  "language_info": {
   "codemirror_mode": {
    "name": "ipython",
    "version": 3
   },
   "file_extension": ".py",
   "mimetype": "text/x-python",
   "name": "python",
   "nbconvert_exporter": "python",
   "pygments_lexer": "ipython3",
   "version": "3.11.13"
  }
 },
 "nbformat": 4,
 "nbformat_minor": 5
}
